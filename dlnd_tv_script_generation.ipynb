{
 "cells": [
  {
   "cell_type": "markdown",
   "metadata": {},
   "source": [
    "# TV Script Generation\n",
    "In this project, you'll generate your own [Simpsons](https://en.wikipedia.org/wiki/The_Simpsons) TV scripts using RNNs.  You'll be using part of the [Simpsons dataset](https://www.kaggle.com/wcukierski/the-simpsons-by-the-data) of scripts from 27 seasons.  The Neural Network you'll build will generate a new TV script for a scene at [Moe's Tavern](https://simpsonswiki.com/wiki/Moe's_Tavern).\n",
    "## Get the Data\n",
    "The data is already provided for you.  You'll be using a subset of the original dataset.  It consists of only the scenes in Moe's Tavern.  This doesn't include other versions of the tavern, like \"Moe's Cavern\", \"Flaming Moe's\", \"Uncle Moe's Family Feed-Bag\", etc.."
   ]
  },
  {
   "cell_type": "code",
   "execution_count": 220,
   "metadata": {
    "collapsed": true
   },
   "outputs": [],
   "source": [
    "\"\"\"\n",
    "DON'T MODIFY ANYTHING IN THIS CELL\n",
    "\"\"\"\n",
    "import helper\n",
    "\n",
    "data_dir = './data/simpsons/moes_tavern_lines.txt'\n",
    "text = helper.load_data(data_dir)\n",
    "# Ignore notice, since we don't use it for analysing the data\n",
    "text = text[81:]"
   ]
  },
  {
   "cell_type": "markdown",
   "metadata": {},
   "source": [
    "## Explore the Data\n",
    "Play around with `view_sentence_range` to view different parts of the data."
   ]
  },
  {
   "cell_type": "code",
   "execution_count": 221,
   "metadata": {},
   "outputs": [
    {
     "name": "stdout",
     "output_type": "stream",
     "text": [
      "Dataset Stats\n",
      "Roughly the number of unique words: 11492\n",
      "Number of scenes: 262\n",
      "Average number of sentences in each scene: 15.248091603053435\n",
      "Number of lines: 4257\n",
      "Average number of words in each line: 11.50434578341555\n",
      "\n",
      "The sentences 0 to 10:\n",
      "Moe_Szyslak: (INTO PHONE) Moe's Tavern. Where the elite meet to drink.\n",
      "Bart_Simpson: Eh, yeah, hello, is Mike there? Last name, Rotch.\n",
      "Moe_Szyslak: (INTO PHONE) Hold on, I'll check. (TO BARFLIES) Mike Rotch. Mike Rotch. Hey, has anybody seen Mike Rotch, lately?\n",
      "Moe_Szyslak: (INTO PHONE) Listen you little puke. One of these days I'm gonna catch you, and I'm gonna carve my name on your back with an ice pick.\n",
      "Moe_Szyslak: What's the matter Homer? You're not your normal effervescent self.\n",
      "Homer_Simpson: I got my problems, Moe. Give me another one.\n",
      "Moe_Szyslak: Homer, hey, you should not drink to forget your problems.\n",
      "Barney_Gumble: Yeah, you should only drink to enhance your social skills.\n",
      "\n",
      "\n"
     ]
    }
   ],
   "source": [
    "view_sentence_range = (0, 10)\n",
    "\n",
    "\"\"\"\n",
    "DON'T MODIFY ANYTHING IN THIS CELL\n",
    "\"\"\"\n",
    "import numpy as np\n",
    "\n",
    "print('Dataset Stats')\n",
    "print('Roughly the number of unique words: {}'.format(len({word: None for word in text.split()})))\n",
    "scenes = text.split('\\n\\n')\n",
    "print('Number of scenes: {}'.format(len(scenes)))\n",
    "sentence_count_scene = [scene.count('\\n') for scene in scenes]\n",
    "print('Average number of sentences in each scene: {}'.format(np.average(sentence_count_scene)))\n",
    "\n",
    "sentences = [sentence for scene in scenes for sentence in scene.split('\\n')]\n",
    "print('Number of lines: {}'.format(len(sentences)))\n",
    "word_count_sentence = [len(sentence.split()) for sentence in sentences]\n",
    "print('Average number of words in each line: {}'.format(np.average(word_count_sentence)))\n",
    "\n",
    "print()\n",
    "print('The sentences {} to {}:'.format(*view_sentence_range))\n",
    "print('\\n'.join(text.split('\\n')[view_sentence_range[0]:view_sentence_range[1]]))"
   ]
  },
  {
   "cell_type": "markdown",
   "metadata": {},
   "source": [
    "## Implement Preprocessing Functions\n",
    "The first thing to do to any dataset is preprocessing.  Implement the following preprocessing functions below:\n",
    "- Lookup Table\n",
    "- Tokenize Punctuation\n",
    "\n",
    "### Lookup Table\n",
    "To create a word embedding, you first need to transform the words to ids.  In this function, create two dictionaries:\n",
    "- Dictionary to go from the words to an id, we'll call `vocab_to_int`\n",
    "- Dictionary to go from the id to word, we'll call `int_to_vocab`\n",
    "\n",
    "Return these dictionaries in the following tuple `(vocab_to_int, int_to_vocab)`"
   ]
  },
  {
   "cell_type": "code",
   "execution_count": 223,
   "metadata": {},
   "outputs": [
    {
     "name": "stdout",
     "output_type": "stream",
     "text": [
      "Tests Passed\n"
     ]
    }
   ],
   "source": [
    "import numpy as np\n",
    "import problem_unittests as tests\n",
    "\n",
    "def create_lookup_tables(text):\n",
    "    \"\"\"\n",
    "    Create lookup tables for vocabulary\n",
    "    :param text: The text of tv scripts split into words\n",
    "    :return: A tuple of dicts (vocab_to_int, int_to_vocab)\n",
    "    \"\"\"\n",
    "    # TODO: Implement Function\n",
    "    words = set([word.lower() for word in text])\n",
    "    #print(words)\n",
    "    int_to_vocab = dict(enumerate(words))\n",
    "    vocab_to_int = {word: i for i, word in int_to_vocab.items()}\n",
    "    return (vocab_to_int, int_to_vocab)\n",
    "\n",
    "\n",
    "\"\"\"\n",
    "DON'T MODIFY ANYTHING IN THIS CELL THAT IS BELOW THIS LINE\n",
    "\"\"\"\n",
    "tests.test_create_lookup_tables(create_lookup_tables)"
   ]
  },
  {
   "cell_type": "markdown",
   "metadata": {},
   "source": [
    "### Tokenize Punctuation\n",
    "We'll be splitting the script into a word array using spaces as delimiters.  However, punctuations like periods and exclamation marks make it hard for the neural network to distinguish between the word \"bye\" and \"bye!\".\n",
    "\n",
    "Implement the function `token_lookup` to return a dict that will be used to tokenize symbols like \"!\" into \"||Exclamation_Mark||\".  Create a dictionary for the following symbols where the symbol is the key and value is the token:\n",
    "- Period ( . )\n",
    "- Comma ( , )\n",
    "- Quotation Mark ( \" )\n",
    "- Semicolon ( ; )\n",
    "- Exclamation mark ( ! )\n",
    "- Question mark ( ? )\n",
    "- Left Parentheses ( ( )\n",
    "- Right Parentheses ( ) )\n",
    "- Dash ( -- )\n",
    "- Return ( \\n )\n",
    "\n",
    "This dictionary will be used to token the symbols and add the delimiter (space) around it.  This separates the symbols as it's own word, making it easier for the neural network to predict on the next word. Make sure you don't use a token that could be confused as a word. Instead of using the token \"dash\", try using something like \"||dash||\"."
   ]
  },
  {
   "cell_type": "code",
   "execution_count": 224,
   "metadata": {},
   "outputs": [
    {
     "name": "stdout",
     "output_type": "stream",
     "text": [
      "Tests Passed\n"
     ]
    }
   ],
   "source": [
    "def token_lookup():\n",
    "    \"\"\"\n",
    "    Generate a dict to turn punctuation into a token.\n",
    "    :return: Tokenize dictionary where the key is the punctuation and the value is the token\n",
    "    \"\"\"\n",
    "    # TODO: Implement Function\n",
    "    return {\".\":\"||Period||\", \n",
    "            \",\":\"||Comma||\", \n",
    "            \"\\\"\":\"||QuotationMark||\",\n",
    "            \";\":\"||Semicolon||\",\n",
    "            \"!\":\"||Exclamationmark||\",\n",
    "            \"?\":\"||QuestionMark||\",\n",
    "            \"(\":\"||LeftParenthesis||\",\n",
    "            \")\":\"||RightParenthesis||\",\n",
    "            \"--\":\"||Dash||\",\n",
    "            \"\\n\":\"||Return||\"}\n",
    "\n",
    "\"\"\"\n",
    "DON'T MODIFY ANYTHING IN THIS CELL THAT IS BELOW THIS LINE\n",
    "\"\"\"\n",
    "tests.test_tokenize(token_lookup)"
   ]
  },
  {
   "cell_type": "markdown",
   "metadata": {},
   "source": [
    "## Preprocess all the data and save it\n",
    "Running the code cell below will preprocess all the data and save it to file."
   ]
  },
  {
   "cell_type": "code",
   "execution_count": 225,
   "metadata": {
    "collapsed": true
   },
   "outputs": [],
   "source": [
    "\"\"\"\n",
    "DON'T MODIFY ANYTHING IN THIS CELL\n",
    "\"\"\"\n",
    "# Preprocess Training, Validation, and Testing Data\n",
    "helper.preprocess_and_save_data(data_dir, token_lookup, create_lookup_tables)"
   ]
  },
  {
   "cell_type": "markdown",
   "metadata": {},
   "source": [
    "# Check Point\n",
    "This is your first checkpoint. If you ever decide to come back to this notebook or have to restart the notebook, you can start from here. The preprocessed data has been saved to disk."
   ]
  },
  {
   "cell_type": "code",
   "execution_count": 226,
   "metadata": {
    "collapsed": true
   },
   "outputs": [],
   "source": [
    "\"\"\"\n",
    "DON'T MODIFY ANYTHING IN THIS CELL\n",
    "\"\"\"\n",
    "import helper\n",
    "import numpy as np\n",
    "import problem_unittests as tests\n",
    "\n",
    "int_text, vocab_to_int, int_to_vocab, token_dict = helper.load_preprocess()"
   ]
  },
  {
   "cell_type": "markdown",
   "metadata": {},
   "source": [
    "## Build the Neural Network\n",
    "You'll build the components necessary to build a RNN by implementing the following functions below:\n",
    "- get_inputs\n",
    "- get_init_cell\n",
    "- get_embed\n",
    "- build_rnn\n",
    "- build_nn\n",
    "- get_batches\n",
    "\n",
    "### Check the Version of TensorFlow and Access to GPU"
   ]
  },
  {
   "cell_type": "code",
   "execution_count": 227,
   "metadata": {},
   "outputs": [
    {
     "name": "stdout",
     "output_type": "stream",
     "text": [
      "TensorFlow Version: 1.0.1\n",
      "Default GPU Device: /gpu:0\n"
     ]
    }
   ],
   "source": [
    "\"\"\"\n",
    "DON'T MODIFY ANYTHING IN THIS CELL\n",
    "\"\"\"\n",
    "from distutils.version import LooseVersion\n",
    "import warnings\n",
    "import tensorflow as tf\n",
    "\n",
    "# Check TensorFlow Version\n",
    "assert LooseVersion(tf.__version__) >= LooseVersion('1.0'), 'Please use TensorFlow version 1.0 or newer'\n",
    "print('TensorFlow Version: {}'.format(tf.__version__))\n",
    "\n",
    "# Check for a GPU\n",
    "if not tf.test.gpu_device_name():\n",
    "    warnings.warn('No GPU found. Please use a GPU to train your neural network.')\n",
    "else:\n",
    "    print('Default GPU Device: {}'.format(tf.test.gpu_device_name()))"
   ]
  },
  {
   "cell_type": "markdown",
   "metadata": {},
   "source": [
    "### Input\n",
    "Implement the `get_inputs()` function to create TF Placeholders for the Neural Network.  It should create the following placeholders:\n",
    "- Input text placeholder named \"input\" using the [TF Placeholder](https://www.tensorflow.org/api_docs/python/tf/placeholder) `name` parameter.\n",
    "- Targets placeholder\n",
    "- Learning Rate placeholder\n",
    "\n",
    "Return the placeholders in the following tuple `(Input, Targets, LearningRate)`"
   ]
  },
  {
   "cell_type": "code",
   "execution_count": 228,
   "metadata": {},
   "outputs": [
    {
     "name": "stdout",
     "output_type": "stream",
     "text": [
      "Tests Passed\n"
     ]
    }
   ],
   "source": [
    "def get_inputs():\n",
    "    \"\"\"\n",
    "    Create TF Placeholders for input, targets, and learning rate.\n",
    "    :return: Tuple (input, targets, learning rate)\n",
    "    \"\"\"\n",
    "    # TODO: Implement Function\n",
    "    input = tf.placeholder(tf.int32, [None, None], name='input')\n",
    "    targets = tf.placeholder(tf.int32, [None, None], name='targets')\n",
    "    learning_rate = tf.placeholder(tf.float32, name='learning_rate')\n",
    "    return (input, targets, learning_rate)\n",
    "\n",
    "\n",
    "\"\"\"\n",
    "DON'T MODIFY ANYTHING IN THIS CELL THAT IS BELOW THIS LINE\n",
    "\"\"\"\n",
    "tests.test_get_inputs(get_inputs)"
   ]
  },
  {
   "cell_type": "markdown",
   "metadata": {},
   "source": [
    "### Build RNN Cell and Initialize\n",
    "Stack one or more [`BasicLSTMCells`](https://www.tensorflow.org/api_docs/python/tf/contrib/rnn/BasicLSTMCell) in a [`MultiRNNCell`](https://www.tensorflow.org/api_docs/python/tf/contrib/rnn/MultiRNNCell).\n",
    "- The Rnn size should be set using `rnn_size`\n",
    "- Initalize Cell State using the MultiRNNCell's [`zero_state()`](https://www.tensorflow.org/api_docs/python/tf/contrib/rnn/MultiRNNCell#zero_state) function\n",
    "    - Apply the name \"initial_state\" to the initial state using [`tf.identity()`](https://www.tensorflow.org/api_docs/python/tf/identity)\n",
    "\n",
    "Return the cell and initial state in the following tuple `(Cell, InitialState)`"
   ]
  },
  {
   "cell_type": "code",
   "execution_count": 229,
   "metadata": {},
   "outputs": [
    {
     "name": "stdout",
     "output_type": "stream",
     "text": [
      "Tests Passed\n"
     ]
    }
   ],
   "source": [
    "def get_init_cell(batch_size, rnn_size):\n",
    "    \"\"\"\n",
    "    Create an RNN Cell and initialize it.\n",
    "    :param batch_size: Size of batches\n",
    "    :param rnn_size: Size of RNNs\n",
    "    :return: Tuple (cell, initialize state)\n",
    "    \"\"\"\n",
    "    # TODO: Implement Function\n",
    "    num_layers = 1\n",
    "    keep_prob = 0.5\n",
    "    \n",
    "    lstm = tf.contrib.rnn.BasicLSTMCell(rnn_size)\n",
    "    drop = tf.contrib.rnn.DropoutWrapper(lstm, output_keep_prob=keep_prob)\n",
    "    #cell = tf.contrib.rnn.MultiRNNCell([lstm] * num_layers)\n",
    "    cell = tf.contrib.rnn.MultiRNNCell([drop] * num_layers)\n",
    "    initial_state = cell.zero_state(batch_size, tf.float32)\n",
    "    initial_state = tf.identity(initial_state, name='initial_state')\n",
    "    return (cell, initial_state)\n",
    "\n",
    "\n",
    "\"\"\"\n",
    "DON'T MODIFY ANYTHING IN THIS CELL THAT IS BELOW THIS LINE\n",
    "\"\"\"\n",
    "tests.test_get_init_cell(get_init_cell)"
   ]
  },
  {
   "cell_type": "markdown",
   "metadata": {},
   "source": [
    "### Word Embedding\n",
    "Apply embedding to `input_data` using TensorFlow.  Return the embedded sequence."
   ]
  },
  {
   "cell_type": "code",
   "execution_count": 256,
   "metadata": {},
   "outputs": [
    {
     "name": "stdout",
     "output_type": "stream",
     "text": [
      "Tests Passed\n"
     ]
    }
   ],
   "source": [
    "def get_embed(input_data, vocab_size, embed_dim):\n",
    "    \"\"\"\n",
    "    Create embedding for <input_data>.\n",
    "    :param input_data: TF placeholder for text input.\n",
    "    :param vocab_size: Number of words in vocabulary.\n",
    "    :param embed_dim: Number of embedding dimensions\n",
    "    :return: Embedded input.\n",
    "    \"\"\"\n",
    "    # TODO: Implement Function\n",
    "    \"\"\"\n",
    "    embedding = tf.Variable(tf.random_normal((vocab_size, embed_dim), -1, 1))\n",
    "    embed = tf.nn.embedding_lookup(embedding, input_data)\n",
    "    \"\"\"\n",
    "    embed = tf.contrib.layers.embed_sequence(input_data, vocab_size=vocab_size, embed_dim=embed_dim)\n",
    "    return embed\n",
    "\n",
    "\n",
    "\"\"\"\n",
    "DON'T MODIFY ANYTHING IN THIS CELL THAT IS BELOW THIS LINE\n",
    "\"\"\"\n",
    "tests.test_get_embed(get_embed)"
   ]
  },
  {
   "cell_type": "markdown",
   "metadata": {},
   "source": [
    "### Build RNN\n",
    "You created a RNN Cell in the `get_init_cell()` function.  Time to use the cell to create a RNN.\n",
    "- Build the RNN using the [`tf.nn.dynamic_rnn()`](https://www.tensorflow.org/api_docs/python/tf/nn/dynamic_rnn)\n",
    " - Apply the name \"final_state\" to the final state using [`tf.identity()`](https://www.tensorflow.org/api_docs/python/tf/identity)\n",
    "\n",
    "Return the outputs and final_state state in the following tuple `(Outputs, FinalState)` "
   ]
  },
  {
   "cell_type": "code",
   "execution_count": 257,
   "metadata": {},
   "outputs": [
    {
     "name": "stdout",
     "output_type": "stream",
     "text": [
      "Tests Passed\n"
     ]
    }
   ],
   "source": [
    "def build_rnn(cell, inputs):\n",
    "    \"\"\"\n",
    "    Create a RNN using a RNN Cell\n",
    "    :param cell: RNN Cell\n",
    "    :param inputs: Input text data\n",
    "    :return: Tuple (Outputs, Final State)\n",
    "    \"\"\"\n",
    "    # TODO: Implement Function\n",
    "    outputs, final_state = tf.nn.dynamic_rnn(cell, inputs, dtype=tf.float32)\n",
    "    final_state = tf.identity(final_state, name='final_state')\n",
    "    return (outputs, final_state)\n",
    "\n",
    "\n",
    "\"\"\"\n",
    "DON'T MODIFY ANYTHING IN THIS CELL THAT IS BELOW THIS LINE\n",
    "\"\"\"\n",
    "tests.test_build_rnn(build_rnn)"
   ]
  },
  {
   "cell_type": "markdown",
   "metadata": {},
   "source": [
    "### Build the Neural Network\n",
    "Apply the functions you implemented above to:\n",
    "- Apply embedding to `input_data` using your `get_embed(input_data, vocab_size, embed_dim)` function.\n",
    "- Build RNN using `cell` and your `build_rnn(cell, inputs)` function.\n",
    "- Apply a fully connected layer with a linear activation and `vocab_size` as the number of outputs.\n",
    "\n",
    "Return the logits and final state in the following tuple (Logits, FinalState) "
   ]
  },
  {
   "cell_type": "code",
   "execution_count": 258,
   "metadata": {},
   "outputs": [
    {
     "name": "stdout",
     "output_type": "stream",
     "text": [
      "Tests Passed\n"
     ]
    }
   ],
   "source": [
    "def build_nn(cell, rnn_size, input_data, vocab_size, embed_dim):\n",
    "    \"\"\"\n",
    "    Build part of the neural network\n",
    "    :param cell: RNN cell\n",
    "    :param rnn_size: Size of rnns\n",
    "    :param input_data: Input data\n",
    "    :param vocab_size: Vocabulary size\n",
    "    :param embed_dim: Number of embedding dimensions\n",
    "    :return: Tuple (Logits, FinalState)\n",
    "    \"\"\"\n",
    "    # TODO: Implement Function\n",
    "    embed = get_embed(input_data, vocab_size, embed_dim)\n",
    "    outputs, final_state = build_rnn(cell, embed)\n",
    "    logits = tf.contrib.layers.fully_connected(outputs, vocab_size, activation_fn=None)\n",
    "    return (logits, final_state)\n",
    "\n",
    "\n",
    "\"\"\"\n",
    "DON'T MODIFY ANYTHING IN THIS CELL THAT IS BELOW THIS LINE\n",
    "\"\"\"\n",
    "tests.test_build_nn(build_nn)"
   ]
  },
  {
   "cell_type": "markdown",
   "metadata": {},
   "source": [
    "### Batches\n",
    "Implement `get_batches` to create batches of input and targets using `int_text`.  The batches should be a Numpy array with the shape `(number of batches, 2, batch size, sequence length)`. Each batch contains two elements:\n",
    "- The first element is a single batch of **input** with the shape `[batch size, sequence length]`\n",
    "- The second element is a single batch of **targets** with the shape `[batch size, sequence length]`\n",
    "\n",
    "If you can't fill the last batch with enough data, drop the last batch.\n",
    "\n",
    "For exmple, `get_batches([1, 2, 3, 4, 5, 6, 7, 8, 9, 10, 11, 12, 13, 14, 15, 16, 17, 18, 19, 20], 3, 2)` would return a Numpy array of the following:\n",
    "```\n",
    "[\n",
    "  # First Batch\n",
    "  [\n",
    "    # Batch of Input\n",
    "    [[ 1  2], [ 7  8], [13 14]]\n",
    "    # Batch of targets\n",
    "    [[ 2  3], [ 8  9], [14 15]]\n",
    "  ]\n",
    "\n",
    "  # Second Batch\n",
    "  [\n",
    "    # Batch of Input\n",
    "    [[ 3  4], [ 9 10], [15 16]]\n",
    "    # Batch of targets\n",
    "    [[ 4  5], [10 11], [16 17]]\n",
    "  ]\n",
    "\n",
    "  # Third Batch\n",
    "  [\n",
    "    # Batch of Input\n",
    "    [[ 5  6], [11 12], [17 18]]\n",
    "    # Batch of targets\n",
    "    [[ 6  7], [12 13], [18  1]]\n",
    "  ]\n",
    "]\n",
    "```\n",
    "\n",
    "Notice that the last target value in the last batch is the first input value of the first batch. In this case, `1`. This is a common technique used when creating sequence batches, although it is rather unintuitive."
   ]
  },
  {
   "cell_type": "code",
   "execution_count": 259,
   "metadata": {},
   "outputs": [
    {
     "name": "stdout",
     "output_type": "stream",
     "text": [
      "Tests Passed\n"
     ]
    }
   ],
   "source": [
    "def get_batches(int_text, batch_size, seq_length):\n",
    "    \"\"\"\n",
    "    Return batches of input and target\n",
    "    :param int_text: Text with the words replaced by their ids\n",
    "    :param batch_size: The size of batch\n",
    "    :param seq_length: The length of sequence\n",
    "    :return: Batches as a Numpy array\n",
    "    \"\"\"\n",
    "    # TODO: Implement Function\n",
    "    # Only keep enough charaters for full batches\n",
    "    tot_batches = len(int_text)//(batch_size * seq_length)\n",
    "    new_len = tot_batches * batch_size * seq_length\n",
    "    input_int_text = int_text[:new_len]\n",
    "    target_int_text = np.zeros_like(input_int_text)\n",
    "    target_int_text[:-1], target_int_text[-1] = input_int_text[1:], input_int_text[0]\n",
    "    \n",
    "    columns = new_len//batch_size\n",
    "    input_int_text = np.reshape(input_int_text, (batch_size, columns))\n",
    "    target_int_text = np.reshape(target_int_text, (batch_size, columns))     \n",
    "    \n",
    "    num_batches = columns//seq_length\n",
    "    batch_inputs = np.hsplit(input_int_text, num_batches)\n",
    "    batch_targets = np.hsplit(target_int_text, num_batches)\n",
    "    \n",
    "    Batches = np.empty([num_batches, 2, batch_size, seq_length])\n",
    "    for batch in range(num_batches):        \n",
    "        Batches[batch][0], Batches[batch][1] = batch_inputs[batch], batch_targets[batch]\n",
    "    return np.array(Batches)\n",
    "\n",
    "\n",
    "\"\"\"\n",
    "DON'T MODIFY ANYTHING IN THIS CELL THAT IS BELOW THIS LINE\n",
    "\"\"\"\n",
    "tests.test_get_batches(get_batches)"
   ]
  },
  {
   "cell_type": "markdown",
   "metadata": {},
   "source": [
    "## Neural Network Training\n",
    "### Hyperparameters\n",
    "Tune the following parameters:\n",
    "\n",
    "- Set `num_epochs` to the number of epochs.\n",
    "- Set `batch_size` to the batch size.\n",
    "- Set `rnn_size` to the size of the RNNs.\n",
    "- Set `embed_dim` to the size of the embedding.\n",
    "- Set `seq_length` to the length of sequence.\n",
    "- Set `learning_rate` to the learning rate.\n",
    "- Set `show_every_n_batches` to the number of batches the neural network should print progress."
   ]
  },
  {
   "cell_type": "code",
   "execution_count": 275,
   "metadata": {
    "collapsed": true
   },
   "outputs": [],
   "source": [
    "# Number of Epochs\n",
    "num_epochs = 350\n",
    "# Batch Size\n",
    "batch_size = 6910\n",
    "# RNN Size\n",
    "rnn_size = 1024\n",
    "# Embedding Dimension Size\n",
    "embed_dim = 300\n",
    "# Sequence Length\n",
    "seq_length = 10\n",
    "# Learning Rate\n",
    "learning_rate = 0.01\n",
    "# Show stats for every n number of batches\n",
    "show_every_n_batches = 1\n",
    "\n",
    "\"\"\"\n",
    "DON'T MODIFY ANYTHING IN THIS CELL THAT IS BELOW THIS LINE\n",
    "\"\"\"\n",
    "save_dir = './save'"
   ]
  },
  {
   "cell_type": "markdown",
   "metadata": {},
   "source": [
    "### Build the Graph\n",
    "Build the graph using the neural network you implemented."
   ]
  },
  {
   "cell_type": "code",
   "execution_count": 276,
   "metadata": {
    "collapsed": true
   },
   "outputs": [],
   "source": [
    "\"\"\"\n",
    "DON'T MODIFY ANYTHING IN THIS CELL\n",
    "\"\"\"\n",
    "from tensorflow.contrib import seq2seq\n",
    "\n",
    "train_graph = tf.Graph()\n",
    "with train_graph.as_default():\n",
    "    vocab_size = len(int_to_vocab)\n",
    "    input_text, targets, lr = get_inputs()\n",
    "    input_data_shape = tf.shape(input_text)\n",
    "    cell, initial_state = get_init_cell(input_data_shape[0], rnn_size)\n",
    "    logits, final_state = build_nn(cell, rnn_size, input_text, vocab_size, embed_dim)\n",
    "\n",
    "    # Probabilities for generating words\n",
    "    probs = tf.nn.softmax(logits, name='probs')\n",
    "\n",
    "    # Loss function\n",
    "    cost = seq2seq.sequence_loss(\n",
    "        logits,\n",
    "        targets,\n",
    "        tf.ones([input_data_shape[0], input_data_shape[1]]))\n",
    "\n",
    "    # Optimizer\n",
    "    optimizer = tf.train.AdamOptimizer(lr)\n",
    "\n",
    "    # Gradient Clipping\n",
    "    gradients = optimizer.compute_gradients(cost)\n",
    "    capped_gradients = [(tf.clip_by_value(grad, -1., 1.), var) for grad, var in gradients if grad is not None]\n",
    "    train_op = optimizer.apply_gradients(capped_gradients)"
   ]
  },
  {
   "cell_type": "markdown",
   "metadata": {},
   "source": [
    "## Train\n",
    "Train the neural network on the preprocessed data.  If you have a hard time getting a good loss, check the [forums](https://discussions.udacity.com/) to see if anyone is having the same problem."
   ]
  },
  {
   "cell_type": "code",
   "execution_count": 277,
   "metadata": {},
   "outputs": [
    {
     "name": "stdout",
     "output_type": "stream",
     "text": [
      "Epoch   0 Batch    0/1   train_loss = 8.822\n",
      "Epoch   1 Batch    0/1   train_loss = 8.774\n",
      "Epoch   2 Batch    0/1   train_loss = 7.139\n",
      "Epoch   3 Batch    0/1   train_loss = 7.656\n",
      "Epoch   4 Batch    0/1   train_loss = 7.312\n",
      "Epoch   5 Batch    0/1   train_loss = 7.301\n",
      "Epoch   6 Batch    0/1   train_loss = 6.619\n",
      "Epoch   7 Batch    0/1   train_loss = 6.379\n",
      "Epoch   8 Batch    0/1   train_loss = 6.173\n",
      "Epoch   9 Batch    0/1   train_loss = 6.076\n",
      "Epoch  10 Batch    0/1   train_loss = 6.033\n",
      "Epoch  11 Batch    0/1   train_loss = 6.023\n",
      "Epoch  12 Batch    0/1   train_loss = 5.935\n",
      "Epoch  13 Batch    0/1   train_loss = 5.843\n",
      "Epoch  14 Batch    0/1   train_loss = 5.785\n",
      "Epoch  15 Batch    0/1   train_loss = 5.741\n",
      "Epoch  16 Batch    0/1   train_loss = 5.694\n",
      "Epoch  17 Batch    0/1   train_loss = 5.639\n",
      "Epoch  18 Batch    0/1   train_loss = 5.581\n",
      "Epoch  19 Batch    0/1   train_loss = 5.527\n",
      "Epoch  20 Batch    0/1   train_loss = 5.474\n",
      "Epoch  21 Batch    0/1   train_loss = 5.412\n",
      "Epoch  22 Batch    0/1   train_loss = 5.343\n",
      "Epoch  23 Batch    0/1   train_loss = 5.273\n",
      "Epoch  24 Batch    0/1   train_loss = 5.204\n",
      "Epoch  25 Batch    0/1   train_loss = 5.140\n",
      "Epoch  26 Batch    0/1   train_loss = 5.079\n",
      "Epoch  27 Batch    0/1   train_loss = 5.021\n",
      "Epoch  28 Batch    0/1   train_loss = 4.966\n",
      "Epoch  29 Batch    0/1   train_loss = 4.916\n",
      "Epoch  30 Batch    0/1   train_loss = 4.866\n",
      "Epoch  31 Batch    0/1   train_loss = 4.819\n",
      "Epoch  32 Batch    0/1   train_loss = 4.774\n",
      "Epoch  33 Batch    0/1   train_loss = 4.727\n",
      "Epoch  34 Batch    0/1   train_loss = 4.682\n",
      "Epoch  35 Batch    0/1   train_loss = 4.637\n",
      "Epoch  36 Batch    0/1   train_loss = 4.590\n",
      "Epoch  37 Batch    0/1   train_loss = 4.548\n",
      "Epoch  38 Batch    0/1   train_loss = 4.501\n",
      "Epoch  39 Batch    0/1   train_loss = 4.461\n",
      "Epoch  40 Batch    0/1   train_loss = 4.418\n",
      "Epoch  41 Batch    0/1   train_loss = 4.372\n",
      "Epoch  42 Batch    0/1   train_loss = 4.331\n",
      "Epoch  43 Batch    0/1   train_loss = 4.292\n",
      "Epoch  44 Batch    0/1   train_loss = 4.250\n",
      "Epoch  45 Batch    0/1   train_loss = 4.213\n",
      "Epoch  46 Batch    0/1   train_loss = 4.170\n",
      "Epoch  47 Batch    0/1   train_loss = 4.130\n",
      "Epoch  48 Batch    0/1   train_loss = 4.091\n",
      "Epoch  49 Batch    0/1   train_loss = 4.049\n",
      "Epoch  50 Batch    0/1   train_loss = 4.014\n",
      "Epoch  51 Batch    0/1   train_loss = 3.975\n",
      "Epoch  52 Batch    0/1   train_loss = 3.938\n",
      "Epoch  53 Batch    0/1   train_loss = 3.896\n",
      "Epoch  54 Batch    0/1   train_loss = 3.860\n",
      "Epoch  55 Batch    0/1   train_loss = 3.824\n",
      "Epoch  56 Batch    0/1   train_loss = 3.785\n",
      "Epoch  57 Batch    0/1   train_loss = 3.750\n",
      "Epoch  58 Batch    0/1   train_loss = 3.713\n",
      "Epoch  59 Batch    0/1   train_loss = 3.673\n",
      "Epoch  60 Batch    0/1   train_loss = 3.642\n",
      "Epoch  61 Batch    0/1   train_loss = 3.610\n",
      "Epoch  62 Batch    0/1   train_loss = 3.575\n",
      "Epoch  63 Batch    0/1   train_loss = 3.540\n",
      "Epoch  64 Batch    0/1   train_loss = 3.506\n",
      "Epoch  65 Batch    0/1   train_loss = 3.477\n",
      "Epoch  66 Batch    0/1   train_loss = 3.440\n",
      "Epoch  67 Batch    0/1   train_loss = 3.412\n",
      "Epoch  68 Batch    0/1   train_loss = 3.378\n",
      "Epoch  69 Batch    0/1   train_loss = 3.343\n",
      "Epoch  70 Batch    0/1   train_loss = 3.308\n",
      "Epoch  71 Batch    0/1   train_loss = 3.283\n",
      "Epoch  72 Batch    0/1   train_loss = 3.254\n",
      "Epoch  73 Batch    0/1   train_loss = 3.220\n",
      "Epoch  74 Batch    0/1   train_loss = 3.195\n",
      "Epoch  75 Batch    0/1   train_loss = 3.161\n",
      "Epoch  76 Batch    0/1   train_loss = 3.134\n",
      "Epoch  77 Batch    0/1   train_loss = 3.106\n",
      "Epoch  78 Batch    0/1   train_loss = 3.079\n",
      "Epoch  79 Batch    0/1   train_loss = 3.053\n",
      "Epoch  80 Batch    0/1   train_loss = 3.023\n",
      "Epoch  81 Batch    0/1   train_loss = 2.997\n",
      "Epoch  82 Batch    0/1   train_loss = 2.966\n",
      "Epoch  83 Batch    0/1   train_loss = 2.939\n",
      "Epoch  84 Batch    0/1   train_loss = 2.912\n",
      "Epoch  85 Batch    0/1   train_loss = 2.890\n",
      "Epoch  86 Batch    0/1   train_loss = 2.867\n",
      "Epoch  87 Batch    0/1   train_loss = 2.838\n",
      "Epoch  88 Batch    0/1   train_loss = 2.812\n",
      "Epoch  89 Batch    0/1   train_loss = 2.789\n",
      "Epoch  90 Batch    0/1   train_loss = 2.768\n",
      "Epoch  91 Batch    0/1   train_loss = 2.742\n",
      "Epoch  92 Batch    0/1   train_loss = 2.718\n",
      "Epoch  93 Batch    0/1   train_loss = 2.689\n",
      "Epoch  94 Batch    0/1   train_loss = 2.668\n",
      "Epoch  95 Batch    0/1   train_loss = 2.643\n",
      "Epoch  96 Batch    0/1   train_loss = 2.624\n",
      "Epoch  97 Batch    0/1   train_loss = 2.603\n",
      "Epoch  98 Batch    0/1   train_loss = 2.580\n",
      "Epoch  99 Batch    0/1   train_loss = 2.562\n",
      "Epoch 100 Batch    0/1   train_loss = 2.536\n",
      "Epoch 101 Batch    0/1   train_loss = 2.513\n",
      "Epoch 102 Batch    0/1   train_loss = 2.496\n",
      "Epoch 103 Batch    0/1   train_loss = 2.470\n",
      "Epoch 104 Batch    0/1   train_loss = 2.450\n",
      "Epoch 105 Batch    0/1   train_loss = 2.432\n",
      "Epoch 106 Batch    0/1   train_loss = 2.412\n",
      "Epoch 107 Batch    0/1   train_loss = 2.387\n",
      "Epoch 108 Batch    0/1   train_loss = 2.372\n",
      "Epoch 109 Batch    0/1   train_loss = 2.351\n",
      "Epoch 110 Batch    0/1   train_loss = 2.331\n",
      "Epoch 111 Batch    0/1   train_loss = 2.317\n",
      "Epoch 112 Batch    0/1   train_loss = 2.291\n",
      "Epoch 113 Batch    0/1   train_loss = 2.275\n",
      "Epoch 114 Batch    0/1   train_loss = 2.264\n",
      "Epoch 115 Batch    0/1   train_loss = 2.241\n",
      "Epoch 116 Batch    0/1   train_loss = 2.215\n",
      "Epoch 117 Batch    0/1   train_loss = 2.199\n",
      "Epoch 118 Batch    0/1   train_loss = 2.185\n",
      "Epoch 119 Batch    0/1   train_loss = 2.166\n",
      "Epoch 120 Batch    0/1   train_loss = 2.142\n",
      "Epoch 121 Batch    0/1   train_loss = 2.130\n",
      "Epoch 122 Batch    0/1   train_loss = 2.117\n",
      "Epoch 123 Batch    0/1   train_loss = 2.096\n",
      "Epoch 124 Batch    0/1   train_loss = 2.074\n",
      "Epoch 125 Batch    0/1   train_loss = 2.060\n",
      "Epoch 126 Batch    0/1   train_loss = 2.047\n",
      "Epoch 127 Batch    0/1   train_loss = 2.021\n",
      "Epoch 128 Batch    0/1   train_loss = 2.010\n",
      "Epoch 129 Batch    0/1   train_loss = 1.996\n",
      "Epoch 130 Batch    0/1   train_loss = 1.973\n",
      "Epoch 131 Batch    0/1   train_loss = 1.958\n",
      "Epoch 132 Batch    0/1   train_loss = 1.944\n",
      "Epoch 133 Batch    0/1   train_loss = 1.925\n",
      "Epoch 134 Batch    0/1   train_loss = 1.914\n",
      "Epoch 135 Batch    0/1   train_loss = 1.892\n",
      "Epoch 136 Batch    0/1   train_loss = 1.876\n",
      "Epoch 137 Batch    0/1   train_loss = 1.869\n",
      "Epoch 138 Batch    0/1   train_loss = 1.843\n",
      "Epoch 139 Batch    0/1   train_loss = 1.836\n",
      "Epoch 140 Batch    0/1   train_loss = 1.820\n",
      "Epoch 141 Batch    0/1   train_loss = 1.805\n",
      "Epoch 142 Batch    0/1   train_loss = 1.784\n",
      "Epoch 143 Batch    0/1   train_loss = 1.775\n",
      "Epoch 144 Batch    0/1   train_loss = 1.758\n",
      "Epoch 145 Batch    0/1   train_loss = 1.743\n",
      "Epoch 146 Batch    0/1   train_loss = 1.726\n",
      "Epoch 147 Batch    0/1   train_loss = 1.717\n",
      "Epoch 148 Batch    0/1   train_loss = 1.700\n",
      "Epoch 149 Batch    0/1   train_loss = 1.685\n",
      "Epoch 150 Batch    0/1   train_loss = 1.671\n",
      "Epoch 151 Batch    0/1   train_loss = 1.652\n",
      "Epoch 152 Batch    0/1   train_loss = 1.643\n",
      "Epoch 153 Batch    0/1   train_loss = 1.622\n",
      "Epoch 154 Batch    0/1   train_loss = 1.612\n",
      "Epoch 155 Batch    0/1   train_loss = 1.596\n",
      "Epoch 156 Batch    0/1   train_loss = 1.580\n",
      "Epoch 157 Batch    0/1   train_loss = 1.571\n",
      "Epoch 158 Batch    0/1   train_loss = 1.559\n",
      "Epoch 159 Batch    0/1   train_loss = 1.550\n",
      "Epoch 160 Batch    0/1   train_loss = 1.536\n",
      "Epoch 161 Batch    0/1   train_loss = 1.532\n",
      "Epoch 162 Batch    0/1   train_loss = 1.512\n",
      "Epoch 163 Batch    0/1   train_loss = 1.490\n",
      "Epoch 164 Batch    0/1   train_loss = 1.480\n",
      "Epoch 165 Batch    0/1   train_loss = 1.474\n",
      "Epoch 166 Batch    0/1   train_loss = 1.457\n",
      "Epoch 167 Batch    0/1   train_loss = 1.447\n",
      "Epoch 168 Batch    0/1   train_loss = 1.437\n",
      "Epoch 169 Batch    0/1   train_loss = 1.420\n",
      "Epoch 170 Batch    0/1   train_loss = 1.408\n",
      "Epoch 171 Batch    0/1   train_loss = 1.401\n",
      "Epoch 172 Batch    0/1   train_loss = 1.377\n",
      "Epoch 173 Batch    0/1   train_loss = 1.370\n",
      "Epoch 174 Batch    0/1   train_loss = 1.361\n",
      "Epoch 175 Batch    0/1   train_loss = 1.344\n",
      "Epoch 176 Batch    0/1   train_loss = 1.339\n",
      "Epoch 177 Batch    0/1   train_loss = 1.323\n",
      "Epoch 178 Batch    0/1   train_loss = 1.319\n",
      "Epoch 179 Batch    0/1   train_loss = 1.314\n",
      "Epoch 180 Batch    0/1   train_loss = 1.303\n",
      "Epoch 181 Batch    0/1   train_loss = 1.291\n",
      "Epoch 182 Batch    0/1   train_loss = 1.271\n",
      "Epoch 183 Batch    0/1   train_loss = 1.266\n",
      "Epoch 184 Batch    0/1   train_loss = 1.258\n",
      "Epoch 185 Batch    0/1   train_loss = 1.245\n",
      "Epoch 186 Batch    0/1   train_loss = 1.231\n"
     ]
    },
    {
     "name": "stdout",
     "output_type": "stream",
     "text": [
      "Epoch 187 Batch    0/1   train_loss = 1.219\n",
      "Epoch 188 Batch    0/1   train_loss = 1.205\n",
      "Epoch 189 Batch    0/1   train_loss = 1.196\n",
      "Epoch 190 Batch    0/1   train_loss = 1.183\n",
      "Epoch 191 Batch    0/1   train_loss = 1.175\n",
      "Epoch 192 Batch    0/1   train_loss = 1.167\n",
      "Epoch 193 Batch    0/1   train_loss = 1.150\n",
      "Epoch 194 Batch    0/1   train_loss = 1.144\n",
      "Epoch 195 Batch    0/1   train_loss = 1.139\n",
      "Epoch 196 Batch    0/1   train_loss = 1.129\n",
      "Epoch 197 Batch    0/1   train_loss = 1.116\n",
      "Epoch 198 Batch    0/1   train_loss = 1.108\n",
      "Epoch 199 Batch    0/1   train_loss = 1.103\n",
      "Epoch 200 Batch    0/1   train_loss = 1.094\n",
      "Epoch 201 Batch    0/1   train_loss = 1.087\n",
      "Epoch 202 Batch    0/1   train_loss = 1.072\n",
      "Epoch 203 Batch    0/1   train_loss = 1.064\n",
      "Epoch 204 Batch    0/1   train_loss = 1.061\n",
      "Epoch 205 Batch    0/1   train_loss = 1.056\n",
      "Epoch 206 Batch    0/1   train_loss = 1.054\n",
      "Epoch 207 Batch    0/1   train_loss = 1.059\n",
      "Epoch 208 Batch    0/1   train_loss = 1.049\n",
      "Epoch 209 Batch    0/1   train_loss = 1.044\n",
      "Epoch 210 Batch    0/1   train_loss = 1.041\n",
      "Epoch 211 Batch    0/1   train_loss = 1.035\n",
      "Epoch 212 Batch    0/1   train_loss = 1.012\n",
      "Epoch 213 Batch    0/1   train_loss = 0.994\n",
      "Epoch 214 Batch    0/1   train_loss = 0.996\n",
      "Epoch 215 Batch    0/1   train_loss = 0.982\n",
      "Epoch 216 Batch    0/1   train_loss = 0.974\n",
      "Epoch 217 Batch    0/1   train_loss = 0.965\n",
      "Epoch 218 Batch    0/1   train_loss = 0.960\n",
      "Epoch 219 Batch    0/1   train_loss = 0.951\n",
      "Epoch 220 Batch    0/1   train_loss = 0.941\n",
      "Epoch 221 Batch    0/1   train_loss = 0.934\n",
      "Epoch 222 Batch    0/1   train_loss = 0.926\n",
      "Epoch 223 Batch    0/1   train_loss = 0.920\n",
      "Epoch 224 Batch    0/1   train_loss = 0.912\n",
      "Epoch 225 Batch    0/1   train_loss = 0.905\n",
      "Epoch 226 Batch    0/1   train_loss = 0.892\n",
      "Epoch 227 Batch    0/1   train_loss = 0.891\n",
      "Epoch 228 Batch    0/1   train_loss = 0.885\n",
      "Epoch 229 Batch    0/1   train_loss = 0.879\n",
      "Epoch 230 Batch    0/1   train_loss = 0.866\n",
      "Epoch 231 Batch    0/1   train_loss = 0.864\n",
      "Epoch 232 Batch    0/1   train_loss = 0.857\n",
      "Epoch 233 Batch    0/1   train_loss = 0.847\n",
      "Epoch 234 Batch    0/1   train_loss = 0.845\n",
      "Epoch 235 Batch    0/1   train_loss = 0.840\n",
      "Epoch 236 Batch    0/1   train_loss = 0.835\n",
      "Epoch 237 Batch    0/1   train_loss = 0.824\n",
      "Epoch 238 Batch    0/1   train_loss = 0.818\n",
      "Epoch 239 Batch    0/1   train_loss = 0.814\n",
      "Epoch 240 Batch    0/1   train_loss = 0.809\n",
      "Epoch 241 Batch    0/1   train_loss = 0.806\n",
      "Epoch 242 Batch    0/1   train_loss = 0.799\n",
      "Epoch 243 Batch    0/1   train_loss = 0.791\n",
      "Epoch 244 Batch    0/1   train_loss = 0.791\n",
      "Epoch 245 Batch    0/1   train_loss = 0.781\n",
      "Epoch 246 Batch    0/1   train_loss = 0.781\n",
      "Epoch 247 Batch    0/1   train_loss = 0.774\n",
      "Epoch 248 Batch    0/1   train_loss = 0.764\n",
      "Epoch 249 Batch    0/1   train_loss = 0.761\n",
      "Epoch 250 Batch    0/1   train_loss = 0.757\n",
      "Epoch 251 Batch    0/1   train_loss = 0.753\n",
      "Epoch 252 Batch    0/1   train_loss = 0.747\n",
      "Epoch 253 Batch    0/1   train_loss = 0.743\n",
      "Epoch 254 Batch    0/1   train_loss = 0.740\n",
      "Epoch 255 Batch    0/1   train_loss = 0.731\n",
      "Epoch 256 Batch    0/1   train_loss = 0.727\n",
      "Epoch 257 Batch    0/1   train_loss = 0.722\n",
      "Epoch 258 Batch    0/1   train_loss = 0.716\n",
      "Epoch 259 Batch    0/1   train_loss = 0.714\n",
      "Epoch 260 Batch    0/1   train_loss = 0.718\n",
      "Epoch 261 Batch    0/1   train_loss = 0.712\n",
      "Epoch 262 Batch    0/1   train_loss = 0.705\n",
      "Epoch 263 Batch    0/1   train_loss = 0.703\n",
      "Epoch 264 Batch    0/1   train_loss = 0.697\n",
      "Epoch 265 Batch    0/1   train_loss = 0.695\n",
      "Epoch 266 Batch    0/1   train_loss = 0.687\n",
      "Epoch 267 Batch    0/1   train_loss = 0.686\n",
      "Epoch 268 Batch    0/1   train_loss = 0.684\n",
      "Epoch 269 Batch    0/1   train_loss = 0.679\n",
      "Epoch 270 Batch    0/1   train_loss = 0.675\n",
      "Epoch 271 Batch    0/1   train_loss = 0.669\n",
      "Epoch 272 Batch    0/1   train_loss = 0.666\n",
      "Epoch 273 Batch    0/1   train_loss = 0.662\n",
      "Epoch 274 Batch    0/1   train_loss = 0.659\n",
      "Epoch 275 Batch    0/1   train_loss = 0.657\n",
      "Epoch 276 Batch    0/1   train_loss = 0.653\n",
      "Epoch 277 Batch    0/1   train_loss = 0.648\n",
      "Epoch 278 Batch    0/1   train_loss = 0.647\n",
      "Epoch 279 Batch    0/1   train_loss = 0.644\n",
      "Epoch 280 Batch    0/1   train_loss = 0.643\n",
      "Epoch 281 Batch    0/1   train_loss = 0.636\n",
      "Epoch 282 Batch    0/1   train_loss = 0.632\n",
      "Epoch 283 Batch    0/1   train_loss = 0.629\n",
      "Epoch 284 Batch    0/1   train_loss = 0.624\n",
      "Epoch 285 Batch    0/1   train_loss = 0.622\n",
      "Epoch 286 Batch    0/1   train_loss = 0.618\n",
      "Epoch 287 Batch    0/1   train_loss = 0.622\n",
      "Epoch 288 Batch    0/1   train_loss = 0.617\n",
      "Epoch 289 Batch    0/1   train_loss = 0.615\n",
      "Epoch 290 Batch    0/1   train_loss = 0.612\n",
      "Epoch 291 Batch    0/1   train_loss = 0.608\n",
      "Epoch 292 Batch    0/1   train_loss = 0.600\n",
      "Epoch 293 Batch    0/1   train_loss = 0.602\n",
      "Epoch 294 Batch    0/1   train_loss = 0.602\n",
      "Epoch 295 Batch    0/1   train_loss = 0.595\n",
      "Epoch 296 Batch    0/1   train_loss = 0.597\n",
      "Epoch 297 Batch    0/1   train_loss = 0.594\n",
      "Epoch 298 Batch    0/1   train_loss = 0.591\n",
      "Epoch 299 Batch    0/1   train_loss = 0.589\n",
      "Epoch 300 Batch    0/1   train_loss = 0.588\n",
      "Epoch 301 Batch    0/1   train_loss = 0.582\n",
      "Epoch 302 Batch    0/1   train_loss = 0.582\n",
      "Epoch 303 Batch    0/1   train_loss = 0.580\n",
      "Epoch 304 Batch    0/1   train_loss = 0.572\n",
      "Epoch 305 Batch    0/1   train_loss = 0.576\n",
      "Epoch 306 Batch    0/1   train_loss = 0.577\n",
      "Epoch 307 Batch    0/1   train_loss = 0.574\n",
      "Epoch 308 Batch    0/1   train_loss = 0.570\n",
      "Epoch 309 Batch    0/1   train_loss = 0.568\n",
      "Epoch 310 Batch    0/1   train_loss = 0.566\n",
      "Epoch 311 Batch    0/1   train_loss = 0.563\n",
      "Epoch 312 Batch    0/1   train_loss = 0.560\n",
      "Epoch 313 Batch    0/1   train_loss = 0.559\n",
      "Epoch 314 Batch    0/1   train_loss = 0.558\n",
      "Epoch 315 Batch    0/1   train_loss = 0.557\n",
      "Epoch 316 Batch    0/1   train_loss = 0.552\n",
      "Epoch 317 Batch    0/1   train_loss = 0.551\n",
      "Epoch 318 Batch    0/1   train_loss = 0.549\n",
      "Epoch 319 Batch    0/1   train_loss = 0.547\n",
      "Epoch 320 Batch    0/1   train_loss = 0.545\n",
      "Epoch 321 Batch    0/1   train_loss = 0.543\n",
      "Epoch 322 Batch    0/1   train_loss = 0.542\n",
      "Epoch 323 Batch    0/1   train_loss = 0.543\n",
      "Epoch 324 Batch    0/1   train_loss = 0.540\n",
      "Epoch 325 Batch    0/1   train_loss = 0.539\n",
      "Epoch 326 Batch    0/1   train_loss = 0.535\n",
      "Epoch 327 Batch    0/1   train_loss = 0.533\n",
      "Epoch 328 Batch    0/1   train_loss = 0.537\n",
      "Epoch 329 Batch    0/1   train_loss = 0.534\n",
      "Epoch 330 Batch    0/1   train_loss = 0.532\n",
      "Epoch 331 Batch    0/1   train_loss = 0.529\n",
      "Epoch 332 Batch    0/1   train_loss = 0.529\n",
      "Epoch 333 Batch    0/1   train_loss = 0.527\n",
      "Epoch 334 Batch    0/1   train_loss = 0.527\n",
      "Epoch 335 Batch    0/1   train_loss = 0.521\n",
      "Epoch 336 Batch    0/1   train_loss = 0.525\n",
      "Epoch 337 Batch    0/1   train_loss = 0.522\n",
      "Epoch 338 Batch    0/1   train_loss = 0.522\n",
      "Epoch 339 Batch    0/1   train_loss = 0.519\n",
      "Epoch 340 Batch    0/1   train_loss = 0.518\n",
      "Epoch 341 Batch    0/1   train_loss = 0.516\n",
      "Epoch 342 Batch    0/1   train_loss = 0.512\n",
      "Epoch 343 Batch    0/1   train_loss = 0.516\n",
      "Epoch 344 Batch    0/1   train_loss = 0.510\n",
      "Epoch 345 Batch    0/1   train_loss = 0.511\n",
      "Epoch 346 Batch    0/1   train_loss = 0.509\n",
      "Epoch 347 Batch    0/1   train_loss = 0.509\n",
      "Epoch 348 Batch    0/1   train_loss = 0.506\n",
      "Epoch 349 Batch    0/1   train_loss = 0.506\n",
      "Model Trained and Saved\n"
     ]
    }
   ],
   "source": [
    "\"\"\"\n",
    "DON'T MODIFY ANYTHING IN THIS CELL\n",
    "\"\"\"\n",
    "batches = get_batches(int_text, batch_size, seq_length)\n",
    "\n",
    "with tf.Session(graph=train_graph) as sess:\n",
    "    sess.run(tf.global_variables_initializer())\n",
    "\n",
    "    for epoch_i in range(num_epochs):\n",
    "        state = sess.run(initial_state, {input_text: batches[0][0]})\n",
    "\n",
    "        for batch_i, (x, y) in enumerate(batches):\n",
    "            feed = {\n",
    "                input_text: x,\n",
    "                targets: y,\n",
    "                initial_state: state,\n",
    "                lr: learning_rate}\n",
    "            train_loss, state, _ = sess.run([cost, final_state, train_op], feed)\n",
    "\n",
    "            # Show every <show_every_n_batches> batches\n",
    "            if (epoch_i * len(batches) + batch_i) % show_every_n_batches == 0:\n",
    "                print('Epoch {:>3} Batch {:>4}/{}   train_loss = {:.3f}'.format(\n",
    "                    epoch_i,\n",
    "                    batch_i,\n",
    "                    len(batches),\n",
    "                    train_loss))\n",
    "\n",
    "    # Save Model\n",
    "    saver = tf.train.Saver()\n",
    "    saver.save(sess, save_dir)\n",
    "    print('Model Trained and Saved')"
   ]
  },
  {
   "cell_type": "markdown",
   "metadata": {},
   "source": [
    "###### Save Parameters\n",
    "Save `seq_length` and `save_dir` for generating a new TV script."
   ]
  },
  {
   "cell_type": "code",
   "execution_count": 278,
   "metadata": {
    "collapsed": true
   },
   "outputs": [],
   "source": [
    "\"\"\"\n",
    "DON'T MODIFY ANYTHING IN THIS CELL\n",
    "\"\"\"\n",
    "# Save parameters for checkpoint\n",
    "helper.save_params((seq_length, save_dir))"
   ]
  },
  {
   "cell_type": "markdown",
   "metadata": {},
   "source": [
    "# Checkpoint"
   ]
  },
  {
   "cell_type": "code",
   "execution_count": 279,
   "metadata": {
    "collapsed": true
   },
   "outputs": [],
   "source": [
    "\"\"\"\n",
    "DON'T MODIFY ANYTHING IN THIS CELL\n",
    "\"\"\"\n",
    "import tensorflow as tf\n",
    "import numpy as np\n",
    "import helper\n",
    "import problem_unittests as tests\n",
    "\n",
    "_, vocab_to_int, int_to_vocab, token_dict = helper.load_preprocess()\n",
    "seq_length, load_dir = helper.load_params()"
   ]
  },
  {
   "cell_type": "markdown",
   "metadata": {},
   "source": [
    "## Implement Generate Functions\n",
    "### Get Tensors\n",
    "Get tensors from `loaded_graph` using the function [`get_tensor_by_name()`](https://www.tensorflow.org/api_docs/python/tf/Graph#get_tensor_by_name).  Get the tensors using the following names:\n",
    "- \"input:0\"\n",
    "- \"initial_state:0\"\n",
    "- \"final_state:0\"\n",
    "- \"probs:0\"\n",
    "\n",
    "Return the tensors in the following tuple `(InputTensor, InitialStateTensor, FinalStateTensor, ProbsTensor)` "
   ]
  },
  {
   "cell_type": "code",
   "execution_count": 280,
   "metadata": {},
   "outputs": [
    {
     "name": "stdout",
     "output_type": "stream",
     "text": [
      "Tests Passed\n"
     ]
    }
   ],
   "source": [
    "def get_tensors(loaded_graph):\n",
    "    \"\"\"\n",
    "    Get input, initial state, final state, and probabilities tensor from <loaded_graph>\n",
    "    :param loaded_graph: TensorFlow graph loaded from file\n",
    "    :return: Tuple (InputTensor, InitialStateTensor, FinalStateTensor, ProbsTensor)\n",
    "    \"\"\"\n",
    "    # TODO: Implement Function\n",
    "    input_tensor = loaded_graph.get_tensor_by_name(\"input:0\")\n",
    "    initial_state_tensor = loaded_graph.get_tensor_by_name(\"initial_state:0\")\n",
    "    final_state_tensor = loaded_graph.get_tensor_by_name(\"final_state:0\")\n",
    "    probs_tensor = loaded_graph.get_tensor_by_name(\"probs:0\")\n",
    "    return (input_tensor, initial_state_tensor, final_state_tensor, probs_tensor)\n",
    "\n",
    "\"\"\"\n",
    "DON'T MODIFY ANYTHING IN THIS CELL THAT IS BELOW THIS LINE\n",
    "\"\"\"\n",
    "tests.test_get_tensors(get_tensors)"
   ]
  },
  {
   "cell_type": "markdown",
   "metadata": {},
   "source": [
    "### Choose Word\n",
    "Implement the `pick_word()` function to select the next word using `probabilities`."
   ]
  },
  {
   "cell_type": "code",
   "execution_count": 281,
   "metadata": {},
   "outputs": [
    {
     "name": "stdout",
     "output_type": "stream",
     "text": [
      "Tests Passed\n"
     ]
    }
   ],
   "source": [
    "def pick_word(probabilities, int_to_vocab):\n",
    "    \"\"\"\n",
    "    Pick the next word in the generated text\n",
    "    :param probabilities: Probabilites of the next word\n",
    "    :param int_to_vocab: Dictionary of word ids as the keys and words as the values\n",
    "    :return: String of the predicted word\n",
    "    \"\"\"\n",
    "    # TODO: Implement Function\n",
    "    return (int_to_vocab[np.argmax(probabilities)])\n",
    "\n",
    "\"\"\"\n",
    "DON'T MODIFY ANYTHING IN THIS CELL THAT IS BELOW THIS LINE\n",
    "\"\"\"\n",
    "tests.test_pick_word(pick_word)"
   ]
  },
  {
   "cell_type": "markdown",
   "metadata": {},
   "source": [
    "## Generate TV Script\n",
    "This will generate the TV script for you.  Set `gen_length` to the length of TV script you want to generate."
   ]
  },
  {
   "cell_type": "code",
   "execution_count": 282,
   "metadata": {},
   "outputs": [
    {
     "name": "stdout",
     "output_type": "stream",
     "text": [
      "moe_szyslak:(to barney) linda ronstadt? how'd you get?\n",
      "moe_szyslak: what?(points to beer) uh, this is gonna be beer(one, and...(points to bart)\n",
      "homer_simpson: oh, no. i think it's what i?\n",
      "homer_simpson: the moron next door closed, barney!\n",
      "kent_brockman:(looks to she turned to room).\n",
      "duffman: okay, homer? / homer_simpson: helllp me and i'm profiling my hurt?(to the house)\n",
      "homer_simpson: oh, i do.\n",
      "\n",
      "\n",
      "barney_gumble: is there.\n",
      "homer_simpson: oh, moe, let me get a\" for a long.\n",
      "\n",
      "\n",
      "homer_simpson:(mouth full) the woman i put my new(effervescent!(heaving noise)\n",
      "homer_simpson: i hit the back to me.\n",
      "moe_szyslak: stupid, i'm gonna looking for an homer!\n",
      "homer_simpson: hey moe, we're looking for?\n",
      "moe_szyslak: look, i.\n",
      "homer_simpson: sorry you homer, okay.\n",
      "moe_szyslak:(nods) uh, i--..\n",
      "homer_simpson:(\n"
     ]
    }
   ],
   "source": [
    "gen_length = 200\n",
    "# homer_simpson, moe_szyslak, or Barney_Gumble\n",
    "prime_word = 'moe_szyslak'\n",
    "\n",
    "\"\"\"\n",
    "DON'T MODIFY ANYTHING IN THIS CELL THAT IS BELOW THIS LINE\n",
    "\"\"\"\n",
    "loaded_graph = tf.Graph()\n",
    "with tf.Session(graph=loaded_graph) as sess:\n",
    "    # Load saved model\n",
    "    loader = tf.train.import_meta_graph(load_dir + '.meta')\n",
    "    loader.restore(sess, load_dir)\n",
    "\n",
    "    # Get Tensors from loaded model\n",
    "    input_text, initial_state, final_state, probs = get_tensors(loaded_graph)\n",
    "\n",
    "    # Sentences generation setup\n",
    "    gen_sentences = [prime_word + ':']\n",
    "    prev_state = sess.run(initial_state, {input_text: np.array([[1]])})\n",
    "\n",
    "    # Generate sentences\n",
    "    for n in range(gen_length):\n",
    "        # Dynamic Input\n",
    "        dyn_input = [[vocab_to_int[word] for word in gen_sentences[-seq_length:]]]\n",
    "        dyn_seq_length = len(dyn_input[0])\n",
    "\n",
    "        # Get Prediction\n",
    "        probabilities, prev_state = sess.run(\n",
    "            [probs, final_state],\n",
    "            {input_text: dyn_input, initial_state: prev_state})\n",
    "        \n",
    "        pred_word = pick_word(probabilities[dyn_seq_length-1], int_to_vocab)\n",
    "\n",
    "        gen_sentences.append(pred_word)\n",
    "    \n",
    "    # Remove tokens\n",
    "    tv_script = ' '.join(gen_sentences)\n",
    "    for key, token in token_dict.items():\n",
    "        ending = ' ' if key in ['\\n', '(', '\"'] else ''\n",
    "        tv_script = tv_script.replace(' ' + token.lower(), key)\n",
    "    tv_script = tv_script.replace('\\n ', '\\n')\n",
    "    tv_script = tv_script.replace('( ', '(')\n",
    "        \n",
    "    print(tv_script)"
   ]
  },
  {
   "cell_type": "markdown",
   "metadata": {},
   "source": [
    "# The TV Script is Nonsensical\n",
    "It's ok if the TV script doesn't make any sense.  We trained on less than a megabyte of text.  In order to get good results, you'll have to use a smaller vocabulary or get more data.  Luckly there's more data!  As we mentioned in the begging of this project, this is a subset of [another dataset](https://www.kaggle.com/wcukierski/the-simpsons-by-the-data).  We didn't have you train on all the data, because that would take too long.  However, you are free to train your neural network on all the data.  After you complete the project, of course.\n",
    "# Submitting This Project\n",
    "When submitting this project, make sure to run all the cells before saving the notebook. Save the notebook file as \"dlnd_tv_script_generation.ipynb\" and save it as a HTML file under \"File\" -> \"Download as\". Include the \"helper.py\" and \"problem_unittests.py\" files in your submission."
   ]
  },
  {
   "cell_type": "code",
   "execution_count": null,
   "metadata": {
    "collapsed": true
   },
   "outputs": [],
   "source": []
  }
 ],
 "metadata": {
  "kernelspec": {
   "display_name": "Python 3",
   "language": "python",
   "name": "python3"
  },
  "language_info": {
   "codemirror_mode": {
    "name": "ipython",
    "version": 3
   },
   "file_extension": ".py",
   "mimetype": "text/x-python",
   "name": "python",
   "nbconvert_exporter": "python",
   "pygments_lexer": "ipython3",
   "version": "3.5.3"
  },
  "widgets": {
   "state": {},
   "version": "1.1.2"
  }
 },
 "nbformat": 4,
 "nbformat_minor": 1
}
